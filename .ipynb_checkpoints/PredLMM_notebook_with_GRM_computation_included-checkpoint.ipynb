{
 "cells": [
  {
   "cell_type": "markdown",
   "metadata": {},
   "source": [
    "# PredLMM Manual with weighted-GRM computation "
   ]
  },
  {
   "cell_type": "markdown",
   "metadata": {},
   "source": [
    "*Version 1.1*\n",
    "\n",
    "PredLMM Team, Feb 23, 2022"
   ]
  },
  {
   "cell_type": "markdown",
   "metadata": {},
   "source": [
    "### Introduction\n",
    "\n",
    "The PredLMM algorithm uses only a few particular blocks of the Genetic Relationship Matrix (GRM) and thus, computing the full GRM is not necessary. In this notebook, we explain how one can use our \"Compute_blocks\" function to compute only the blocks of the GRM necessary for fitting the PredLMM algorithm and perform the subsequent analysis. Using this pipeline, one can start directly with the genotype data (and not the GCTA-computed GRM) and compute the necessary GRM-blocks.\n",
    "The function also allows incorporating user-specified SNP-weights e.g., LD-based weights computed using the software \"LDAK5\" into the estimation of the GRM-blocks.\n"
   ]
  },
  {
   "cell_type": "markdown",
   "metadata": {},
   "source": [
    "### Data Description\n",
    "\n",
    "Along with the example phenotype (y) and covariate (X) files described in the notebook, \"PredLMM_notebook.ipynb\", this time we load the example .bed file (Genotype) and one more additional file (weights) that has the LD-based SNP-weights computed using the software \"LDAK5\".\n"
   ]
  },
  {
   "cell_type": "code",
   "execution_count": 55,
   "metadata": {},
   "outputs": [],
   "source": [
    "#---------------------------loading the phenotype and covariate data----------------------------------------\n",
    "\n",
    "from PredLMM.PredLMM_final import *\n",
    "phenotypes = np.loadtxt(\"Data/example_pheno.csv\",skiprows=1)\n",
    "covariates = np.loadtxt(\"Data/example_covar.csv\",delimiter=\",\",skiprows=1)\n",
    "bed = open_bed(\"Data/example_geno.bed\");\n",
    "\n",
    "\n",
    "y = phenotypes[:,2]\n",
    "X = np.delete(covariates,[0,1],axis=1)\n",
    "Genotype = bed.read();\n",
    "weights = pd.read_csv(\"Data/weights.all\", delimiter=\" \").iloc[:,1].values"
   ]
  },
  {
   "cell_type": "markdown",
   "metadata": {},
   "source": [
    "#### Choosing knots for PredLMM and computing the necessary GRM-blocks\n",
    "\n",
    "\n",
    "We select a random sub-sample or knots (sub_sample) of size, subsample_size = 1000 from the set of all individuals. We select the correspondoing rows of y and X to create vectors, y_sub and X_sub. \n",
    "\n",
    "We use the function \"Compute_blocks\" to compute only the necessary GRM-blocks for starting the PredLMM algorithm. The function takes three arguments, Genotype, sub_sample and weights. The output is a N X N matrix with all the diagonal elements and a few blocks of the true GRM. If there is no weights file to incorporate, one can use a vector of all 1's as, \"weights = np.ones(p)\". In that case, the computed blocks will exactly match the GRM computed using standard GCTA."
   ]
  },
  {
   "cell_type": "code",
   "execution_count": 56,
   "metadata": {},
   "outputs": [],
   "source": [
    "#---------------------------Knot selection and rearranging the IDs such that the knots come first--------\n",
    "\n",
    "N = Genotype.shape[0]; p = Genotype.shape[1]; \n",
    "subsample_size = 1000;\n",
    "sub_sample = sorted(np.random.choice(range(0,N),subsample_size,replace=False))\n",
    "non_subsample = np.setdiff1d(range(0,N),sub_sample)\n",
    "indices = np.hstack((sub_sample,non_subsample))\n",
    "\n",
    "GRM_array = Compute_blocks(Genotype, sub_sample, weights = weights)"
   ]
  },
  {
   "cell_type": "code",
   "execution_count": 57,
   "metadata": {},
   "outputs": [],
   "source": [
    "#---------------------------Selecting vectors and matrices corresponding to the knots----------------------\n",
    "\n",
    "y = y[indices]; X=X[indices]; X_T = X.T;\n",
    "G_selected = GRM_array[np.ix_(range(0,subsample_size), range(0,subsample_size))]\n",
    "y_sub = y[range(0,subsample_size)]; X_sub=X[range(0,subsample_size)]; X_subT=X_sub.T"
   ]
  },
  {
   "cell_type": "markdown",
   "metadata": {},
   "source": [
    "y_sub, X_sub and G_selected respectively correspond to the phenotype vector, the covariate vector and the GRM specific to the chosen sub-sample or knots."
   ]
  },
  {
   "cell_type": "markdown",
   "metadata": {},
   "source": [
    "#### Fitting GREML (sub)\n",
    "\n",
    "Next, we fit GREML (sub) i.e. GREML on the selected sub-sample, to estimate heritability ($h^2$) and variance ($\\sigma^2$). The  \"result_subsample\" vector stores the following quantities in the following order,\n",
    "1. the GREML(sub) heritability estimate, \n",
    "2. the standard error of the heritability estimate,\n",
    "3. the GREML(sub) variance estimate, and\n",
    "4. the time taken to converge."
   ]
  },
  {
   "cell_type": "code",
   "execution_count": 49,
   "metadata": {},
   "outputs": [
    {
     "name": "stdout",
     "output_type": "stream",
     "text": [
      "{'Heritability estimate': array([[0.7277386]], dtype=float32), 'SD of heritability estimate': 0.1281, 'Variance estimate': 1.0875999927520752, 'Time taken': 0.6862}\n"
     ]
    }
   ],
   "source": [
    "#-------------------------Fitting GREML(sub) using only the selected subsample (set of knots)-------------------------\n",
    "\n",
    "A_selc = np.copy(G_selected)-Identity(subsample_size)\n",
    "result_subsample = derivative_minim_sub(y_sub, X_sub, X_subT, G_selected, A_selc, subsample_size)\n",
    "print(result_subsample)"
   ]
  },
  {
   "cell_type": "markdown",
   "metadata": {},
   "source": [
    "#### Fitting PredLMM\n",
    "\n",
    "\n",
    "Next, we create a few matrices necessary for fitting the PredLMM algorithm."
   ]
  },
  {
   "cell_type": "code",
   "execution_count": 50,
   "metadata": {},
   "outputs": [],
   "source": [
    "Ct =  np.copy(GRM_array[range(0,subsample_size),:],order='F')\n",
    "C12 = Ct[:,range(subsample_size,N)]\n",
    "id_diag = np.diag_indices(N)\n",
    "diag_G_sub = GRM_array[id_diag]\n",
    "G_inv = inv(G_selected).T\n",
    "GRM_array[np.ix_(range(subsample_size,N),range(subsample_size,N))] = sgemm(alpha=1,a=C12.T,b=sgemm(alpha=1,a=G_inv,b=C12))\n",
    "del G_inv, C12\n",
    "add = copy(-GRM_array[id_diag] + diag_G_sub) ## diagonal adjustment\n",
    "np.fill_diagonal(GRM_array, - 1 + diag_G_sub)"
   ]
  },
  {
   "cell_type": "markdown",
   "metadata": {},
   "source": [
    "We fit PredLMM to estimate heritability ($h^2$) and variance ($\\sigma^2$). The  \"result_full\" vector stores the following quantities in the following order,\n",
    "1. the PredLMM heritability estimate, \n",
    "2. the standard error of the heritability estimate,\n",
    "3. the PredLMM variance estimate, and\n",
    "4. the time taken to converge."
   ]
  },
  {
   "cell_type": "code",
   "execution_count": 51,
   "metadata": {},
   "outputs": [
    {
     "name": "stdout",
     "output_type": "stream",
     "text": [
      "{'Heritability estimate': 0.7687000036239624, 'SD of heritability estimate': 0.0413, 'Variance estimate': 1.0266000032424927, 'Time taken': 8.4843}\n"
     ]
    }
   ],
   "source": [
    "#--------------------------------Fitting PredLMM----------------------------------------------------------------------\n",
    "\n",
    "result_full = derivative_minim_full(y, X, X_T, Ct, id_diag, add, G_selected, GRM_array, N)\n",
    "print(result_full)"
   ]
  },
  {
   "cell_type": "markdown",
   "metadata": {},
   "source": [
    "#### Final result\n",
    "\n",
    "\n",
    "Finally, we stack both the GREML(sub) and PredLMM estimates together as the final result."
   ]
  },
  {
   "cell_type": "code",
   "execution_count": 52,
   "metadata": {},
   "outputs": [
    {
     "name": "stdout",
     "output_type": "stream",
     "text": [
      "{'GREML (sub) =>': {'Heritability estimate': array([[0.7277386]], dtype=float32), 'SD of heritability estimate': 0.1281, 'Variance estimate': 1.0875999927520752, 'Time taken': 0.6862}, 'PredLMM =>': {'Heritability estimate': 0.7687000036239624, 'SD of heritability estimate': 0.0413, 'Variance estimate': 1.0266000032424927, 'Time taken': 8.4843}}\n"
     ]
    }
   ],
   "source": [
    "final_result = {'GREML (sub) =>':result_subsample,'PredLMM =>': result_full}\n",
    "print(final_result)"
   ]
  },
  {
   "cell_type": "markdown",
   "metadata": {},
   "source": [
    "The true values of heritability and variance were respectively 0.8 and 1 in the simulation. Notice how PredLMM estimates were closer to the truth compared to GREML(sub). "
   ]
  }
 ],
 "metadata": {
  "kernelspec": {
   "display_name": "Python 3",
   "language": "python",
   "name": "python3"
  },
  "language_info": {
   "codemirror_mode": {
    "name": "ipython",
    "version": 3
   },
   "file_extension": ".py",
   "mimetype": "text/x-python",
   "name": "python",
   "nbconvert_exporter": "python",
   "pygments_lexer": "ipython3",
   "version": "3.8.3"
  }
 },
 "nbformat": 4,
 "nbformat_minor": 4
}
