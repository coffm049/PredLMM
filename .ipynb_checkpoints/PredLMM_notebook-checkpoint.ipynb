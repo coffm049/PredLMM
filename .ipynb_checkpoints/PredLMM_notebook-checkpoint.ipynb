{
 "cells": [
  {
   "cell_type": "markdown",
   "metadata": {},
   "source": [
    "# PredLMM Manual"
   ]
  },
  {
   "cell_type": "markdown",
   "metadata": {},
   "source": [
    "*Version 1.1*\n",
    "\n",
    "PredLMM Team, December 31, 2021"
   ]
  },
  {
   "cell_type": "markdown",
   "metadata": {},
   "source": [
    "### Introduction\n",
    "PredLMM, which stands for Predictive Process approximated Linear Mixed Model, is a program for performing rapid SNP based heritability estimation with large number of genetically related individuals.\n",
    "\n",
    "See PredLMM's README.md for installation instructions, documentation, code, and a bibliography."
   ]
  },
  {
   "cell_type": "markdown",
   "metadata": {},
   "source": [
    "### Contacts\n",
    "\n",
    "Email one of the developers at slsouvik@gmail.com.\n",
    "Open an issue on GitHub.\n",
    "\n",
    "\n",
    "### Citing PredLMM\n",
    "\n",
    "If you use PredLMM in any published work, please cite the main manuscript."
   ]
  },
  {
   "cell_type": "markdown",
   "metadata": {},
   "source": [
    "### Data Description\n",
    "\n",
    "We will use the phenotype file: \"example_pheno.csv\", covariate file: \"example_covar.csv\". Both the files have 5000 rows corresponding to 5000 individuals and 3 columns of which first two are their family and individual IDs. Third column of the phenotype file contains a phenotype vector. The covariate file has only a single covariate vector (third column) of all 1's (intercept term). There are three binary files (bed, bim, fam) with the name: \"example_geno\". Using these binary files, GRM files are computed using GCTA software and saved as: \"example_grm\"."
   ]
  },
  {
   "cell_type": "markdown",
   "metadata": {},
   "source": [
    "### General use\n",
    "\n",
    "We start by loading PredLMM module."
   ]
  },
  {
   "cell_type": "code",
   "execution_count": 2,
   "metadata": {},
   "outputs": [],
   "source": [
    "#-----------------------------Loading  the required Module------------------------------------------\n",
    "\n",
    "from PredLMM.PredLMM_final import *"
   ]
  },
  {
   "cell_type": "markdown",
   "metadata": {},
   "source": [
    "#### Loading the GRM and other vectors\n",
    "\n",
    "Next, following the guides from GCTA official website, we load the GCTA-GRM files to construct and store the $N \\times N$ GRM as a matrix named, GRM_array. "
   ]
  },
  {
   "cell_type": "code",
   "execution_count": 3,
   "metadata": {},
   "outputs": [],
   "source": [
    "#----------------------------Loading the GRM files obtained using GCTA-----------------------------\n",
    "\n",
    "prefix = \"Data/example_grm\"\n",
    "def sum_n_vec(n):\n",
    "    out = [int(0)] * n\n",
    "    for i in range(n):\n",
    "        out[i] = int(((i + 1) * (i + 2) / 2) - 1)\n",
    "    return(out)\n",
    "\n",
    "\n",
    "def ReadGRMBin(prefix, AllN = False):\n",
    "    BinFileName  = prefix + \".grm.bin\"\n",
    "    NFileName = prefix + \".grm.N.bin\"\n",
    "    IDFileName = prefix + \".grm.id\"\n",
    "    dt = np.dtype('f4') # Relatedness is stored as a float of size 4 in the binary file\n",
    "    entry_format = 'f' # N is stored as a float in the binary file\n",
    "    entry_size = calcsize(entry_format)\n",
    "    ## Read IDs\n",
    "    ids = pd.read_csv(IDFileName, sep = '\\t', header = None)\n",
    "    ids_vec = ids.iloc[:,1]\n",
    "    n = len(ids.index)\n",
    "    ids_diag = ['NA' for x in range(n)]\n",
    "    n_off = int(n * (n - 1) / 2)\n",
    "    ## Read relatedness values\n",
    "    grm = np.fromfile(BinFileName, dtype = dt)\n",
    "    i = sum_n_vec(n)\n",
    "    out = {'diag': grm[i], 'off': np.delete(grm, i),'id': ids}\n",
    "    return(out)\n",
    "\n",
    "\n",
    "G = ReadGRMBin(prefix)\n",
    "N = len(G['diag'])\n",
    "\n",
    "#-------------------------Creating a blank matrix -------------------------------------------------------------\n",
    "\n",
    "GRM = csr_matrix((N, N));GRM_array = GRM.todense().A1.reshape(N, N)\n",
    "idx = np.tril_indices(N,-1,N);idy = np.triu_indices(N,1,N);id_diag = np.diag_indices(N)\n",
    "\n",
    "#-------------------------Storing the genetic relationship values elementwise into the blank matrix -----------\n",
    "\n",
    "GRM_array[idx] = G['off'];GRM_array[id_diag] = G['diag'];GRM_array[idy] = GRM_array.T[idy]\n",
    "GRM_array = np.float32(GRM_array)"
   ]
  },
  {
   "cell_type": "markdown",
   "metadata": {},
   "source": [
    "However, this way of loading the GRM is very time-consuming, especially when $N$ is large (>$40,000)$.\n",
    "\n",
    "An alterinative way of would be to use the above method once to load the GRM and then save it in h5py format which can be loaded much efficiently. The following few lines of codes can be used for that purpose. "
   ]
  },
  {
   "cell_type": "code",
   "execution_count": 14,
   "metadata": {},
   "outputs": [],
   "source": [
    "#----------------------------convert the GRM to h5py format for faster loading------------------------------ \n",
    "\n",
    "#hf = h5py.File('Data/example_grm.h5', 'w')\n",
    "#hf.create_dataset('dataset_1', data=GRM_array)\n",
    "#hf.close()\n",
    "\n",
    "#----------------------------loading GRM in h5py format-----------------------------------------------------\n",
    "\n",
    "#hf = h5py.File('Data/example_grm.h5', 'r')\n",
    "#GRM_array= np.array(hf.get('GRM'),dtype=\"float32\")"
   ]
  },
  {
   "cell_type": "markdown",
   "metadata": {},
   "source": [
    "Next, load and create the phenotype (y) and covariate vectors (X)."
   ]
  },
  {
   "cell_type": "code",
   "execution_count": 4,
   "metadata": {},
   "outputs": [],
   "source": [
    "#---------------------------loading the phenotype and covariate data----------------------------------------\n",
    "\n",
    "phenotypes = np.loadtxt(\"Data/example_pheno.csv\",skiprows=1)\n",
    "covariates = np.loadtxt(\"Data/example_covar.csv\",delimiter=\",\",skiprows=1)\n",
    "y = phenotypes[:,2]\n",
    "X = np.delete(covariates,[0,1],axis=1)"
   ]
  },
  {
   "cell_type": "markdown",
   "metadata": {},
   "source": [
    "#### Choosing knots for PredLMM and fitting GREML (sub)\n",
    "\n",
    "We select a random sub-sample (to be used as set of knots) from the set of all individuals. Select the correspondoing rows of y and X to create vectors, y_sub and X_sub. Similarly, select the corresponding rows and columns of GRM_array to construct G_selected. y_sub, X_sub and G_selected respectively correspond to the phenotype vector, the covariate vector and the GRM specific to the chosen sub-sample or knots.\n"
   ]
  },
  {
   "cell_type": "code",
   "execution_count": 5,
   "metadata": {},
   "outputs": [],
   "source": [
    "#---------------------------Knot selection and selecting corresponding vectors----------------------------\n",
    "\n",
    "subsample_size = 500;\n",
    "sub_sample = sorted(np.random.choice(range(0,N),subsample_size,replace=False))\n",
    "non_subsample = np.setdiff1d(range(0,N),sub_sample)\n",
    "indices = np.hstack((sub_sample,non_subsample))\n",
    "GRM_array = np.float32(GRM_array[np.ix_(indices,indices)].T)\n",
    "y = y[indices]; X=X[indices]; X_T = X.T;\n",
    "\n",
    "G_selected = GRM_array[range(0,subsample_size),:][:,range(0,subsample_size)]\n",
    "y_sub = y[range(0,subsample_size)]; X_sub=X[range(0,subsample_size)]; X_subT=X_sub.T"
   ]
  },
  {
   "cell_type": "markdown",
   "metadata": {},
   "source": [
    "Next, we fit GREML (sub) i.e. GREML on the selected sub-sample, to estimate heritability ($h^2$) and variance ($\\sigma^2$). The  \"result_subsample\" vector stores the following quantities in the following order,\n",
    "1. the GREML(sub) heritability estimate, \n",
    "2. the standard error of the heritability estimate,\n",
    "3. the GREML(sub) variance estimate, and\n",
    "4. the time taken to converge."
   ]
  },
  {
   "cell_type": "code",
   "execution_count": 6,
   "metadata": {},
   "outputs": [
    {
     "ename": "AttributeError",
     "evalue": "'int' object has no attribute 'item'",
     "output_type": "error",
     "traceback": [
      "\u001b[1;31m---------------------------------------------------------------------------\u001b[0m",
      "\u001b[1;31mAttributeError\u001b[0m                            Traceback (most recent call last)",
      "\u001b[1;32m<ipython-input-6-cee449b1c746>\u001b[0m in \u001b[0;36m<module>\u001b[1;34m\u001b[0m\n\u001b[0;32m      2\u001b[0m \u001b[1;33m\u001b[0m\u001b[0m\n\u001b[0;32m      3\u001b[0m \u001b[0mA_selc\u001b[0m \u001b[1;33m=\u001b[0m \u001b[0mnp\u001b[0m\u001b[1;33m.\u001b[0m\u001b[0mcopy\u001b[0m\u001b[1;33m(\u001b[0m\u001b[0mG_selected\u001b[0m\u001b[1;33m)\u001b[0m\u001b[1;33m-\u001b[0m\u001b[0mIdentity\u001b[0m\u001b[1;33m(\u001b[0m\u001b[0msubsample_size\u001b[0m\u001b[1;33m)\u001b[0m\u001b[1;33m\u001b[0m\u001b[1;33m\u001b[0m\u001b[0m\n\u001b[1;32m----> 4\u001b[1;33m \u001b[0mresult_subsample\u001b[0m \u001b[1;33m=\u001b[0m \u001b[0mderivative_minim_sub\u001b[0m\u001b[1;33m(\u001b[0m\u001b[0my_sub\u001b[0m\u001b[1;33m,\u001b[0m \u001b[0mX_sub\u001b[0m\u001b[1;33m,\u001b[0m \u001b[0mX_subT\u001b[0m\u001b[1;33m,\u001b[0m \u001b[0mG_selected\u001b[0m\u001b[1;33m,\u001b[0m \u001b[0mA_selc\u001b[0m\u001b[1;33m,\u001b[0m \u001b[0msubsample_size\u001b[0m\u001b[1;33m)\u001b[0m\u001b[1;33m\u001b[0m\u001b[1;33m\u001b[0m\u001b[0m\n\u001b[0m\u001b[0;32m      5\u001b[0m \u001b[0mprint\u001b[0m\u001b[1;33m(\u001b[0m\u001b[0mresult_subsample\u001b[0m\u001b[1;33m)\u001b[0m\u001b[1;33m\u001b[0m\u001b[1;33m\u001b[0m\u001b[0m\n",
      "\u001b[1;32m~\\COMP167\\PredLMM\\PredLMM\\PredLMM_final.py\u001b[0m in \u001b[0;36mderivative_minim_sub\u001b[1;34m(y_sub, X_sub, X_subT, G_selected, A_selc, subsample_size)\u001b[0m\n\u001b[0;32m     55\u001b[0m  \u001b[0mt1\u001b[0m \u001b[1;33m=\u001b[0m \u001b[1;33m(\u001b[0m\u001b[0mtime\u001b[0m\u001b[1;33m.\u001b[0m\u001b[0mtime\u001b[0m\u001b[1;33m(\u001b[0m\u001b[1;33m)\u001b[0m \u001b[1;33m-\u001b[0m \u001b[0mstart_time\u001b[0m\u001b[1;33m)\u001b[0m\u001b[1;33m\u001b[0m\u001b[1;33m\u001b[0m\u001b[0m\n\u001b[0;32m     56\u001b[0m  \u001b[1;31m#result = np.hstack((np.asscalar(pc_minimizer_easy),np.asscalar(sd_sub),np.asscalar(sigma),t1))\u001b[0m\u001b[1;33m\u001b[0m\u001b[1;33m\u001b[0m\u001b[1;33m\u001b[0m\u001b[0m\n\u001b[1;32m---> 57\u001b[1;33m  \u001b[0mresult\u001b[0m \u001b[1;33m=\u001b[0m \u001b[1;33m{\u001b[0m\u001b[1;34m'Heritability estimate'\u001b[0m\u001b[1;33m:\u001b[0m\u001b[0mnp\u001b[0m\u001b[1;33m.\u001b[0m\u001b[0masscalar\u001b[0m\u001b[1;33m(\u001b[0m\u001b[0mpc_minimizer_easy\u001b[0m\u001b[1;33m)\u001b[0m\u001b[1;33m,\u001b[0m \u001b[1;34m'SD of heritability estimate'\u001b[0m\u001b[1;33m:\u001b[0m\u001b[0mnp\u001b[0m\u001b[1;33m.\u001b[0m\u001b[0masscalar\u001b[0m\u001b[1;33m(\u001b[0m\u001b[0msd_sub\u001b[0m\u001b[1;33m)\u001b[0m\u001b[1;33m,\u001b[0m \u001b[1;34m'Variance estimate'\u001b[0m\u001b[1;33m:\u001b[0m  \u001b[0mnp\u001b[0m\u001b[1;33m.\u001b[0m\u001b[0masscalar\u001b[0m\u001b[1;33m(\u001b[0m\u001b[0msigma\u001b[0m\u001b[1;33m)\u001b[0m\u001b[1;33m,\u001b[0m \u001b[1;34m'Time taken'\u001b[0m\u001b[1;33m:\u001b[0m\u001b[0mt1\u001b[0m\u001b[1;33m}\u001b[0m\u001b[1;33m\u001b[0m\u001b[1;33m\u001b[0m\u001b[0m\n\u001b[0m\u001b[0;32m     58\u001b[0m  \u001b[1;32mreturn\u001b[0m\u001b[1;33m(\u001b[0m\u001b[0mresult\u001b[0m\u001b[1;33m)\u001b[0m\u001b[1;33m\u001b[0m\u001b[1;33m\u001b[0m\u001b[0m\n\u001b[0;32m     59\u001b[0m \u001b[1;33m\u001b[0m\u001b[0m\n",
      "\u001b[1;32m<__array_function__ internals>\u001b[0m in \u001b[0;36masscalar\u001b[1;34m(*args, **kwargs)\u001b[0m\n",
      "\u001b[1;32m~\\anaconda3\\lib\\site-packages\\numpy\\lib\\type_check.py\u001b[0m in \u001b[0;36masscalar\u001b[1;34m(a)\u001b[0m\n\u001b[0;32m    579\u001b[0m     \u001b[1;36m24\u001b[0m\u001b[1;33m\u001b[0m\u001b[1;33m\u001b[0m\u001b[0m\n\u001b[0;32m    580\u001b[0m     \"\"\"\n\u001b[1;32m--> 581\u001b[1;33m     \u001b[1;32mreturn\u001b[0m \u001b[0ma\u001b[0m\u001b[1;33m.\u001b[0m\u001b[0mitem\u001b[0m\u001b[1;33m(\u001b[0m\u001b[1;33m)\u001b[0m\u001b[1;33m\u001b[0m\u001b[1;33m\u001b[0m\u001b[0m\n\u001b[0m\u001b[0;32m    582\u001b[0m \u001b[1;33m\u001b[0m\u001b[0m\n\u001b[0;32m    583\u001b[0m \u001b[1;31m#-----------------------------------------------------------------------------\u001b[0m\u001b[1;33m\u001b[0m\u001b[1;33m\u001b[0m\u001b[1;33m\u001b[0m\u001b[0m\n",
      "\u001b[1;31mAttributeError\u001b[0m: 'int' object has no attribute 'item'"
     ]
    }
   ],
   "source": [
    "#-------------------------Fitting GREML(sub) using only the selected subsample (set of knots)-------------------------\n",
    "\n",
    "A_selc = np.copy(G_selected)-Identity(subsample_size)\n",
    "result_subsample = derivative_minim_sub(y_sub, X_sub, X_subT, G_selected, A_selc, subsample_size)\n",
    "print(result_subsample)"
   ]
  },
  {
   "cell_type": "markdown",
   "metadata": {},
   "source": [
    "#### Fitting PredLMM\n",
    "\n",
    "\n",
    "Next, we create a few matrices necessary for fitting the PredLMM algorithm."
   ]
  },
  {
   "cell_type": "code",
   "execution_count": 18,
   "metadata": {},
   "outputs": [],
   "source": [
    "Ct =  np.copy(GRM_array[range(0,subsample_size),:],order='F')\n",
    "C12 = Ct[:,range(subsample_size,N)]\n",
    "id_diag = np.diag_indices(N)\n",
    "diag_G_sub = GRM_array[id_diag]\n",
    "G_inv = inv(G_selected).T\n",
    "GRM_array[np.ix_(range(subsample_size,N),range(subsample_size,N))] = sgemm(alpha=1,a=C12.T,b=sgemm(alpha=1,a=G_inv,b=C12))\n",
    "del G_inv, C12\n",
    "add = copy(-GRM_array[id_diag] + diag_G_sub) ## diagonal adjustment\n",
    "np.fill_diagonal(GRM_array, - 1 + diag_G_sub)"
   ]
  },
  {
   "cell_type": "markdown",
   "metadata": {},
   "source": [
    "We fit PredLMM to estimate heritability ($h^2$) and variance ($\\sigma^2$). The  \"result_full\" vector stores the following quantities in the following order,\n",
    "1. the PredLMM heritability estimate, \n",
    "2. the standard error of the heritability estimate,\n",
    "3. the PredLMM variance estimate, and\n",
    "4. the time taken to converge."
   ]
  },
  {
   "cell_type": "code",
   "execution_count": 19,
   "metadata": {},
   "outputs": [
    {
     "name": "stdout",
     "output_type": "stream",
     "text": [
      "548.4388\n",
      "{'Heritability estimate': 0.7714204788208008, 'SD of heritability estimate': 0.06038803792213711, 'Variance estimate': 1.0266531705856323, 'Time taken': 3.708467960357666}\n"
     ]
    }
   ],
   "source": [
    "#--------------------------------Fitting PredLMM----------------------------------------------------------------------\n",
    "\n",
    "result_full = derivative_minim_full(y, X, X_T, Ct, id_diag, add, G_selected, GRM_array, N)\n",
    "print(result_full)"
   ]
  },
  {
   "cell_type": "markdown",
   "metadata": {},
   "source": [
    "#### Final result\n",
    "\n",
    "\n",
    "Finally, we stack both the GREML(sub) and PredLMM estimates together as the final result."
   ]
  },
  {
   "cell_type": "code",
   "execution_count": 20,
   "metadata": {},
   "outputs": [
    {
     "name": "stdout",
     "output_type": "stream",
     "text": [
      "{'GREML (sub) =>': {'Heritability estimate': 0.6867885589599609, 'SD of heritability estimate': 0.2663537958411332, 'Variance estimate': 0.9642826914787292, 'Time taken': 0.11668753623962402}, 'PredLMM =>': {'Heritability estimate': 0.7714204788208008, 'SD of heritability estimate': 0.06038803792213711, 'Variance estimate': 1.0266531705856323, 'Time taken': 3.708467960357666}}\n"
     ]
    }
   ],
   "source": [
    "final_result = {'GREML (sub) =>':result_subsample,'PredLMM =>': result_full}\n",
    "print(final_result)"
   ]
  },
  {
   "cell_type": "markdown",
   "metadata": {},
   "source": [
    "The true values of heritability and variance were respectively 0.8 and 1 in the simulation. Notice how PredLMM estimates were closer to the truth compared to GREML(sub). "
   ]
  }
 ],
 "metadata": {
  "kernelspec": {
   "display_name": "Python 3",
   "language": "python",
   "name": "python3"
  },
  "language_info": {
   "codemirror_mode": {
    "name": "ipython",
    "version": 3
   },
   "file_extension": ".py",
   "mimetype": "text/x-python",
   "name": "python",
   "nbconvert_exporter": "python",
   "pygments_lexer": "ipython3",
   "version": "3.8.3"
  }
 },
 "nbformat": 4,
 "nbformat_minor": 4
}
