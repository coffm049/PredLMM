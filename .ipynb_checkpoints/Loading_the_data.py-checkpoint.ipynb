{
 "cells": [
  {
   "cell_type": "markdown",
   "metadata": {},
   "source": [
    "# PredLMM Manual"
   ]
  },
  {
   "cell_type": "markdown",
   "metadata": {},
   "source": [
    "*Version 1.0*\n",
    "\n",
    "PredLMM Team, August 8, 2020"
   ]
  },
  {
   "cell_type": "markdown",
   "metadata": {},
   "source": [
    "### Introduction\n",
    "PredLMM, which stands for Predictive Process approximated Linear Mixed Model, is a program for performing rapid SNP based heritability estimation with large number of genetically related individuals.\n",
    "\n",
    "See PredLMM's README.md for installation instructions, documentation, code, and a bibliography."
   ]
  },
  {
   "cell_type": "markdown",
   "metadata": {},
   "source": [
    "### Contacts\n",
    "\n",
    "Email one of the developers at slsouvik@gmail.com.\n",
    "Open an issue on GitHub.\n",
    "\n",
    "\n",
    "### Citing PredLMM\n",
    "\n",
    "If you use PredLMM in any published work, please cite the main manuscript."
   ]
  },
  {
   "cell_type": "markdown",
   "metadata": {},
   "source": [
    "### Data Description\n",
    "\n",
    "We will use the phenotype file: \"example_pheno.csv\", covariate file: \"example_covar.csv\". Both the files have 5000 many rows corresponding to 5000 many individuals and 3 columns of which first two are their family and individual IDs (Note: The individuals are assumed to be not sharing any familial relationship and hence, the family ID and individual ID column are the same). Third column of the phenotype file contains a phenotype vector which was generated following the simulation study of section (3.2.1) of the main manuscript. The covariate file has only a single covariate vector (third column) of all 1's (intercept term). For each individual, we have 10,000 many SNP genotypes in binary PLINK files: \"example_geno\". With the binary files, GRM files are computed using GCTA and are saved under name: \"example_grm\"."
   ]
  },
  {
   "cell_type": "markdown",
   "metadata": {},
   "source": [
    "### Notebook preparation and general use\n",
    "\n",
    "We start by loading required modules and functions."
   ]
  },
  {
   "cell_type": "code",
   "execution_count": 1,
   "metadata": {},
   "outputs": [],
   "source": [
    "#-----------------------Loading  required Modules------------------------------------------\n",
    "import pandas as pd\n",
    "import numpy as np\n",
    "import sys\n",
    "import os\n",
    "import time\n",
    "import h5py\n",
    "from copy import copy\n",
    "from scipy.sparse import csr_matrix, rand\n",
    "from struct import unpack, calcsize\n",
    "from numpy.linalg import inv\n",
    "from scipy.optimize import newton\n",
    "from random import sample\n",
    "from scipy.linalg.blas import dgemm,sgemm,sgemv"
   ]
  },
  {
   "cell_type": "code",
   "execution_count": 2,
   "metadata": {},
   "outputs": [],
   "source": [
    "from PredLMM import PredLMM_sub as ps\n",
    "from PredLMM import PredLMM_full as pf"
   ]
  },
  {
   "cell_type": "markdown",
   "metadata": {},
   "source": [
    "Next we load the GCTA-GRM files and construct the $N \\times N$ Genetic Relationship Matrix under the name: GRM_array. "
   ]
  },
  {
   "cell_type": "code",
   "execution_count": 3,
   "metadata": {},
   "outputs": [],
   "source": [
    "#-----------------------Loading the GRM obtained using GCTA---------------------------------------------------\n",
    "\n",
    "prefix = \"Data/example_grm\"\n",
    "def sum_n_vec(n):\n",
    "    out = [int(0)] * n\n",
    "    for i in range(n):\n",
    "        out[i] = int(((i + 1) * (i + 2) / 2) - 1)\n",
    "    return(out)\n",
    "\n",
    "\n",
    "def ReadGRMBin(prefix, AllN = False):\n",
    "    BinFileName  = prefix + \".grm.bin\"\n",
    "    NFileName = prefix + \".grm.N.bin\"\n",
    "    IDFileName = prefix + \".grm.id\"\n",
    "    dt = np.dtype('f4') # Relatedness is stored as a float of size 4 in the binary file\n",
    "    entry_format = 'f' # N is stored as a float in the binary file\n",
    "    entry_size = calcsize(entry_format)\n",
    "    ## Read IDs\n",
    "    ids = pd.read_csv(IDFileName, sep = '\\t', header = None)\n",
    "    ids_vec = ids.iloc[:,1]\n",
    "    n = len(ids.index)\n",
    "    ids_diag = ['NA' for x in range(n)]\n",
    "    n_off = int(n * (n - 1) / 2)\n",
    "    ## Read relatedness values\n",
    "    grm = np.fromfile(BinFileName, dtype = dt)\n",
    "    i = sum_n_vec(n)\n",
    "    out = {'diag': grm[i], 'off': np.delete(grm, i),'id': ids}\n",
    "    return(out)\n",
    "\n",
    "\n",
    "G = ReadGRMBin(prefix)\n",
    "N = len(G['diag'])\n",
    "GRM = csr_matrix((N, N));GRM_array = GRM.todense().A1.reshape(N, N)\n",
    "idx = np.tril_indices(N,-1,N);idy = np.triu_indices(N,1,N);id_diag = np.diag_indices(N)\n",
    "GRM_array[idx] = G['off'];GRM_array[id_diag] = G['diag'];GRM_array[idy] = GRM_array.T[idy]\n",
    "GRM_array = np.float32(GRM_array)"
   ]
  },
  {
   "cell_type": "markdown",
   "metadata": {},
   "source": [
    "Loading the GRM everytime for each trait in the above way is very time-consuming especially when $N$ is large (>$40,000)$. The following few lines of codes can be used to save the loaded GRM in efficient h5py format. \n",
    "\n",
    "Then for analyzing each trait, one would need to load this h5py data to construct the GRM (codes are provided)."
   ]
  },
  {
   "cell_type": "code",
   "execution_count": 4,
   "metadata": {},
   "outputs": [],
   "source": [
    "#-----------------------convert the GRM to h5py format for faster loading------------------- \n",
    "\n",
    "#hf = h5py.File('Data/example_grm.h5', 'w')\n",
    "#hf.create_dataset('dataset_1', data=GRM_array)\n",
    "#hf.close()\n",
    "\n",
    "#-----------------------loading GRM in h5py format------------------------------------------- \n",
    "\n",
    "#hf = h5py.File('Data/example_grm.h5', 'r')\n",
    "#GRM_array= np.array(hf.get('GRM'),dtype=\"float32\")"
   ]
  },
  {
   "cell_type": "markdown",
   "metadata": {},
   "source": [
    "Next, load and create the phenotype (y) and covariate vectors (X)."
   ]
  },
  {
   "cell_type": "code",
   "execution_count": 5,
   "metadata": {},
   "outputs": [],
   "source": [
    "#----------------------loading the phenotype and covariate data----------------------------\n",
    "\n",
    "phenotypes = np.loadtxt(\"Data/example_pheno.csv\",skiprows=1)\n",
    "covariates = np.loadtxt(\"Data/example_covar.csv\",delimiter=\",\",skiprows=1)\n",
    "y = phenotypes[:,2]\n",
    "X = np.delete(covariates,[0,1],axis=1)"
   ]
  },
  {
   "cell_type": "markdown",
   "metadata": {},
   "source": [
    "We select a random subsample (to be used as set of knots) from the set of all individuals and select the correspondoing rows of y, X and GRM_array.\n"
   ]
  },
  {
   "cell_type": "code",
   "execution_count": 6,
   "metadata": {},
   "outputs": [],
   "source": [
    "#----------------------Knot selection and selecting corresponding vectors----------------------------\n",
    "\n",
    "subsample_size = 500;\n",
    "sub_sample = sorted(np.random.choice(range(0,N),subsample_size,replace=False))\n",
    "non_subsample = np.setdiff1d(range(0,N),sub_sample)\n",
    "indices = np.hstack((sub_sample,non_subsample))\n",
    "GRM_array = np.float32(GRM_array[np.ix_(indices,indices)].T)\n",
    "y = y[indices]; X=X[indices]; X_T = X.T;\n",
    "\n",
    "G_selected = GRM_array[range(0,subsample_size),:][:,range(0,subsample_size)]\n",
    "y_sub = y[range(0,subsample_size)]; X_sub=X[range(0,subsample_size)]; X_subT=X_sub.T"
   ]
  },
  {
   "cell_type": "code",
   "execution_count": 7,
   "metadata": {},
   "outputs": [
    {
     "name": "stdout",
     "output_type": "stream",
     "text": [
      "0.5\n",
      "0.50015\n",
      "[[0.8988907]]\n",
      "[[0.87996954]]\n",
      "[[0.8814423]]\n",
      "[[0.88145065]]\n",
      "[[0.8814505]]\n",
      "[[0.8814506]]\n"
     ]
    }
   ],
   "source": [
    "#------------------Running LMM using only the selected subsample (set of knots)-------------------------\n",
    "def Identity(p):\n",
    " Identity = np.zeros((p, p), int)\n",
    " np.fill_diagonal(Identity, 1)\n",
    " return(Identity)\n",
    "\n",
    "A_selc = np.copy(G_selected)-Identity(subsample_size)\n",
    "result_subsample = ps.derivative_minim(y_sub, X_sub, X_subT, G_selected, A_selc, subsample_size)"
   ]
  },
  {
   "cell_type": "code",
   "execution_count": 10,
   "metadata": {},
   "outputs": [],
   "source": [
    "#------------------Running PredLMM----------------------------------------------------------------------\n",
    "\n",
    "Ct =  np.copy(GRM_array[range(0,subsample_size),:],order='F')\n",
    "C12 = Ct[:,range(subsample_size,N)]\n",
    "id_diag = np.diag_indices(N)\n",
    "diag_G_sub = GRM_array[id_diag]\n",
    "G_inv = inv(G_selected).T\n",
    "GRM_array[np.ix_(range(subsample_size,N),range(subsample_size,N))] = sgemm(alpha=1,a=C12.T,b=sgemm(alpha=1,a=G_inv,b=C12))\n",
    "del G_inv, C12\n",
    "add = copy(-GRM_array[id_diag] + diag_G_sub) ## diagonal adjustment\n",
    "np.fill_diagonal(GRM_array, - 1 + diag_G_sub)"
   ]
  },
  {
   "cell_type": "code",
   "execution_count": 9,
   "metadata": {},
   "outputs": [
    {
     "ename": "NameError",
     "evalue": "name 'Ct' is not defined",
     "output_type": "error",
     "traceback": [
      "\u001b[1;31m---------------------------------------------------------------------------\u001b[0m",
      "\u001b[1;31mNameError\u001b[0m                                 Traceback (most recent call last)",
      "\u001b[1;32m<ipython-input-9-a35d32f86b34>\u001b[0m in \u001b[0;36m<module>\u001b[1;34m\u001b[0m\n\u001b[1;32m----> 1\u001b[1;33m \u001b[0mresult_full\u001b[0m \u001b[1;33m=\u001b[0m \u001b[0mpf\u001b[0m\u001b[1;33m.\u001b[0m\u001b[0mderivative_minim\u001b[0m\u001b[1;33m(\u001b[0m\u001b[0my\u001b[0m\u001b[1;33m,\u001b[0m \u001b[0mX\u001b[0m\u001b[1;33m,\u001b[0m \u001b[0mX_T\u001b[0m\u001b[1;33m,\u001b[0m \u001b[0mid_diag\u001b[0m\u001b[1;33m,\u001b[0m \u001b[0madd\u001b[0m\u001b[1;33m,\u001b[0m \u001b[0mGRM_array\u001b[0m\u001b[1;33m,\u001b[0m \u001b[0mN\u001b[0m\u001b[1;33m)\u001b[0m\u001b[1;33m\u001b[0m\u001b[1;33m\u001b[0m\u001b[0m\n\u001b[0m",
      "\u001b[1;32m~\\COMP167\\PredLMM\\PredLMM\\PredLMM_full.py\u001b[0m in \u001b[0;36mderivative_minim\u001b[1;34m(y, X, X_T, id_diag, add, GRM_array, N)\u001b[0m\n\u001b[0;32m     31\u001b[0m \u001b[1;33m\u001b[0m\u001b[0m\n\u001b[0;32m     32\u001b[0m  \u001b[0mstart_time\u001b[0m \u001b[1;33m=\u001b[0m \u001b[0mtime\u001b[0m\u001b[1;33m.\u001b[0m\u001b[0mtime\u001b[0m\u001b[1;33m(\u001b[0m\u001b[1;33m)\u001b[0m\u001b[1;33m\u001b[0m\u001b[1;33m\u001b[0m\u001b[0m\n\u001b[1;32m---> 33\u001b[1;33m  \u001b[0mpc_minimizer_f\u001b[0m \u001b[1;33m=\u001b[0m \u001b[0mnewton\u001b[0m\u001b[1;33m(\u001b[0m\u001b[0mder_predproc_exponential\u001b[0m\u001b[1;33m,\u001b[0m\u001b[1;36m0.5\u001b[0m\u001b[1;33m,\u001b[0m\u001b[0mtol\u001b[0m\u001b[1;33m=\u001b[0m\u001b[1;36m0.000005\u001b[0m\u001b[1;33m)\u001b[0m\u001b[1;33m\u001b[0m\u001b[1;33m\u001b[0m\u001b[0m\n\u001b[0m\u001b[0;32m     34\u001b[0m  \u001b[0mt1\u001b[0m \u001b[1;33m=\u001b[0m \u001b[1;33m(\u001b[0m\u001b[0mtime\u001b[0m\u001b[1;33m.\u001b[0m\u001b[0mtime\u001b[0m\u001b[1;33m(\u001b[0m\u001b[1;33m)\u001b[0m \u001b[1;33m-\u001b[0m \u001b[0mstart_time\u001b[0m\u001b[1;33m)\u001b[0m\u001b[1;33m\u001b[0m\u001b[1;33m\u001b[0m\u001b[0m\n\u001b[0;32m     35\u001b[0m  \u001b[0mresult\u001b[0m \u001b[1;33m=\u001b[0m \u001b[0mnp\u001b[0m\u001b[1;33m.\u001b[0m\u001b[0mhstack\u001b[0m\u001b[1;33m(\u001b[0m\u001b[1;33m(\u001b[0m\u001b[0mnp\u001b[0m\u001b[1;33m.\u001b[0m\u001b[0masscalar\u001b[0m\u001b[1;33m(\u001b[0m\u001b[0mpc_minimizer_f\u001b[0m\u001b[1;33m)\u001b[0m\u001b[1;33m,\u001b[0m\u001b[0mt1\u001b[0m\u001b[1;33m)\u001b[0m\u001b[1;33m)\u001b[0m\u001b[1;33m\u001b[0m\u001b[1;33m\u001b[0m\u001b[0m\n",
      "\u001b[1;32m~\\anaconda3\\lib\\site-packages\\scipy\\optimize\\zeros.py\u001b[0m in \u001b[0;36mnewton\u001b[1;34m(func, x0, fprime, args, tol, maxiter, fprime2, x1, rtol, full_output, disp)\u001b[0m\n\u001b[0;32m    324\u001b[0m             \u001b[0mp1\u001b[0m \u001b[1;33m=\u001b[0m \u001b[0mx0\u001b[0m \u001b[1;33m*\u001b[0m \u001b[1;33m(\u001b[0m\u001b[1;36m1\u001b[0m \u001b[1;33m+\u001b[0m \u001b[0meps\u001b[0m\u001b[1;33m)\u001b[0m\u001b[1;33m\u001b[0m\u001b[1;33m\u001b[0m\u001b[0m\n\u001b[0;32m    325\u001b[0m             \u001b[0mp1\u001b[0m \u001b[1;33m+=\u001b[0m \u001b[1;33m(\u001b[0m\u001b[0meps\u001b[0m \u001b[1;32mif\u001b[0m \u001b[0mp1\u001b[0m \u001b[1;33m>=\u001b[0m \u001b[1;36m0\u001b[0m \u001b[1;32melse\u001b[0m \u001b[1;33m-\u001b[0m\u001b[0meps\u001b[0m\u001b[1;33m)\u001b[0m\u001b[1;33m\u001b[0m\u001b[1;33m\u001b[0m\u001b[0m\n\u001b[1;32m--> 326\u001b[1;33m         \u001b[0mq0\u001b[0m \u001b[1;33m=\u001b[0m \u001b[0mfunc\u001b[0m\u001b[1;33m(\u001b[0m\u001b[0mp0\u001b[0m\u001b[1;33m,\u001b[0m \u001b[1;33m*\u001b[0m\u001b[0margs\u001b[0m\u001b[1;33m)\u001b[0m\u001b[1;33m\u001b[0m\u001b[1;33m\u001b[0m\u001b[0m\n\u001b[0m\u001b[0;32m    327\u001b[0m         \u001b[0mfuncalls\u001b[0m \u001b[1;33m+=\u001b[0m \u001b[1;36m1\u001b[0m\u001b[1;33m\u001b[0m\u001b[1;33m\u001b[0m\u001b[0m\n\u001b[0;32m    328\u001b[0m         \u001b[0mq1\u001b[0m \u001b[1;33m=\u001b[0m \u001b[0mfunc\u001b[0m\u001b[1;33m(\u001b[0m\u001b[0mp1\u001b[0m\u001b[1;33m,\u001b[0m \u001b[1;33m*\u001b[0m\u001b[0margs\u001b[0m\u001b[1;33m)\u001b[0m\u001b[1;33m\u001b[0m\u001b[1;33m\u001b[0m\u001b[0m\n",
      "\u001b[1;32m~\\COMP167\\PredLMM\\PredLMM\\PredLMM_full.py\u001b[0m in \u001b[0;36mder_predproc_exponential\u001b[1;34m(param)\u001b[0m\n\u001b[0;32m     16\u001b[0m   \u001b[0mp\u001b[0m \u001b[1;33m=\u001b[0m \u001b[0mX\u001b[0m\u001b[1;33m.\u001b[0m\u001b[0msize\u001b[0m\u001b[1;33m\u001b[0m\u001b[1;33m\u001b[0m\u001b[0m\n\u001b[0;32m     17\u001b[0m   \u001b[0maddedId\u001b[0m \u001b[1;33m=\u001b[0m \u001b[0mnp\u001b[0m\u001b[1;33m.\u001b[0m\u001b[0mreshape\u001b[0m\u001b[1;33m(\u001b[0m\u001b[1;33m(\u001b[0m\u001b[1;36m1\u001b[0m\u001b[1;33m-\u001b[0m\u001b[0mh\u001b[0m\u001b[1;33m)\u001b[0m\u001b[1;33m+\u001b[0m \u001b[0mh\u001b[0m\u001b[1;33m*\u001b[0m\u001b[0madd\u001b[0m\u001b[1;33m,\u001b[0m\u001b[0mN\u001b[0m\u001b[1;33m)\u001b[0m\u001b[1;33m\u001b[0m\u001b[1;33m\u001b[0m\u001b[0m\n\u001b[1;32m---> 18\u001b[1;33m   \u001b[0maddedId_invU\u001b[0m \u001b[1;33m=\u001b[0m \u001b[0mnp\u001b[0m\u001b[1;33m.\u001b[0m\u001b[0mmultiply\u001b[0m\u001b[1;33m(\u001b[0m\u001b[1;33m(\u001b[0m\u001b[1;36m1\u001b[0m\u001b[1;33m/\u001b[0m\u001b[0maddedId\u001b[0m\u001b[1;33m)\u001b[0m\u001b[1;33m[\u001b[0m\u001b[1;33m:\u001b[0m\u001b[1;33m,\u001b[0m\u001b[0mnp\u001b[0m\u001b[1;33m.\u001b[0m\u001b[0mnewaxis\u001b[0m\u001b[1;33m]\u001b[0m\u001b[1;33m,\u001b[0m \u001b[0mCt\u001b[0m\u001b[1;33m.\u001b[0m\u001b[0mT\u001b[0m\u001b[1;33m)\u001b[0m\u001b[1;33m\u001b[0m\u001b[1;33m\u001b[0m\u001b[0m\n\u001b[0m\u001b[0;32m     19\u001b[0m   \u001b[0mCTadded_Id_invC\u001b[0m \u001b[1;33m=\u001b[0m \u001b[0msgemm\u001b[0m\u001b[1;33m(\u001b[0m\u001b[0malpha\u001b[0m\u001b[1;33m=\u001b[0m\u001b[1;36m1\u001b[0m\u001b[1;33m,\u001b[0m\u001b[0ma\u001b[0m\u001b[1;33m=\u001b[0m\u001b[0mCt\u001b[0m\u001b[1;33m,\u001b[0m\u001b[0mb\u001b[0m\u001b[1;33m=\u001b[0m\u001b[0maddedId_invU\u001b[0m\u001b[1;33m)\u001b[0m\u001b[1;33m;\u001b[0m \u001b[0mprint\u001b[0m\u001b[1;33m(\u001b[0m\u001b[0mCTadded_Id_invC\u001b[0m\u001b[1;33m.\u001b[0m\u001b[0mflags\u001b[0m\u001b[1;33m)\u001b[0m\u001b[1;33m\u001b[0m\u001b[1;33m\u001b[0m\u001b[0m\n\u001b[0;32m     20\u001b[0m   \u001b[0mC_inv\u001b[0m \u001b[1;33m=\u001b[0m \u001b[1;33m(\u001b[0m\u001b[1;33m-\u001b[0m\u001b[0msgemm\u001b[0m\u001b[1;33m(\u001b[0m\u001b[0malpha\u001b[0m\u001b[1;33m=\u001b[0m\u001b[1;36m1\u001b[0m\u001b[1;33m,\u001b[0m\u001b[0ma\u001b[0m\u001b[1;33m=\u001b[0m\u001b[0mh\u001b[0m\u001b[1;33m*\u001b[0m\u001b[0maddedId_invU\u001b[0m\u001b[1;33m,\u001b[0m \u001b[0mb\u001b[0m\u001b[1;33m=\u001b[0m\u001b[0msgemm\u001b[0m\u001b[1;33m(\u001b[0m\u001b[0malpha\u001b[0m\u001b[1;33m=\u001b[0m\u001b[1;36m1\u001b[0m\u001b[1;33m,\u001b[0m\u001b[0ma\u001b[0m\u001b[1;33m=\u001b[0m\u001b[0minv\u001b[0m\u001b[1;33m(\u001b[0m\u001b[0mG_selected\u001b[0m\u001b[1;33m+\u001b[0m\u001b[0mh\u001b[0m\u001b[1;33m*\u001b[0m\u001b[0mCTadded_Id_invC\u001b[0m\u001b[1;33m)\u001b[0m\u001b[1;33m,\u001b[0m\u001b[0mb\u001b[0m\u001b[1;33m=\u001b[0m\u001b[0maddedId_invU\u001b[0m\u001b[1;33m.\u001b[0m\u001b[0mT\u001b[0m\u001b[1;33m)\u001b[0m\u001b[1;33m)\u001b[0m\u001b[1;33m)\u001b[0m\u001b[1;33m\u001b[0m\u001b[1;33m\u001b[0m\u001b[0m\n",
      "\u001b[1;31mNameError\u001b[0m: name 'Ct' is not defined"
     ]
    }
   ],
   "source": [
    "result_full = pf.derivative_minim(y, X, X_T, Ct, id_diag, add, G_selected, GRM_array, N)"
   ]
  },
  {
   "cell_type": "code",
   "execution_count": null,
   "metadata": {},
   "outputs": [],
   "source": [
    "mf.der"
   ]
  }
 ],
 "metadata": {
  "kernelspec": {
   "display_name": "Python 3",
   "language": "python",
   "name": "python3"
  },
  "language_info": {
   "codemirror_mode": {
    "name": "ipython",
    "version": 3
   },
   "file_extension": ".py",
   "mimetype": "text/x-python",
   "name": "python",
   "nbconvert_exporter": "python",
   "pygments_lexer": "ipython3",
   "version": "3.8.3"
  }
 },
 "nbformat": 4,
 "nbformat_minor": 4
}
